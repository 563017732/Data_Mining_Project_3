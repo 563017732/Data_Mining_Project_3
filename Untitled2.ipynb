{
 "cells": [
  {
   "cell_type": "code",
   "execution_count": 4,
   "metadata": {},
   "outputs": [
    {
     "name": "stdout",
     "output_type": "stream",
     "text": [
      "          1    2    3    4\n",
      "1  0.000000  0.0  0.0  0.0\n",
      "2  0.333333  0.0  0.0  1.0\n",
      "3  0.333333  0.5  0.0  0.0\n",
      "4  0.333333  0.5  1.0  0.0\n",
      "[('4', 0.3999979991563005), ('2', 0.3999718520524386), ('3', 0.2000301487717988), ('1', 1.9461950683593785e-11)]\n"
     ]
    }
   ],
   "source": [
    "import pandas as pd\n",
    "import numpy as np\n",
    "\n",
    "def PageRank(M, alpha, root):\n",
    "    \"\"\"\n",
    "    Personal Rank in matrix formation\n",
    "    :param M: transfer probability matrix\n",
    "    :param index2node: index2node dictionary\n",
    "    :param node2index: node2index dictionary\n",
    "    :return:type of list of tuple, ex.\n",
    "    [(node1, prob1),(node2, prob2),...]\n",
    "    \"\"\"\n",
    "    result = []\n",
    "    n = len(M)\n",
    "    v = np.zeros(n)\n",
    "    v[node2index[root]] = 1\n",
    "    while np.sum(abs(v - (alpha*np.matmul(M,v) + (1-alpha)*v))) > 0.0001:\n",
    "        v = alpha * np.matmul(M, v) + (1-alpha)*v\n",
    "    for ind, prob in enumerate(v):\n",
    "        result.append((index2node[ind], prob))\n",
    "    result = sorted(result, key=lambda x:x[1], reverse=True)[:num_candidates]\n",
    "    return result\n",
    "\n",
    "def Generate_Transfer_Matrix(G):\n",
    "    \"\"\"generate transfer matrix given graph\"\"\"\n",
    "    index2node = dict()\n",
    "    node2index = dict()\n",
    "    for index,node in enumerate(G.keys()):\n",
    "        node2index[node] = index\n",
    "        index2node[index] = node\n",
    "    # num of nodes\n",
    "    n = len(node2index)\n",
    "    # generate Transfer probability matrix M, shape of (n,n)\n",
    "    M = np.zeros([n,n])\n",
    "    for node1 in G.keys():\n",
    "        for node2 in G[node1]:\n",
    "            # FIXME: some nodes not in the Graphs.keys, may incur some errors\n",
    "            try:\n",
    "                M[node2index[node2],node2index[node1]] = 1/len(G[node1])\n",
    "            except:\n",
    "                continue\n",
    "    return M, node2index, index2node\n",
    "\n",
    "\n",
    "alpha = 0.85\n",
    "root = '1'\n",
    "num_iter = 100\n",
    "num_candidates = 10\n",
    "G = {'1' : {'2' : 1,'3' : 1,'4' : 1},\n",
    "    '2' : {'3' : 1,'4' : 1},\n",
    "    '3' : {'4' : 1},\n",
    "    '4' : {'2' : 1}}\n",
    "M, node2index, index2node = Generate_Transfer_Matrix(G)\n",
    "# print transfer matrix\n",
    "print(pd.DataFrame(M, index=G.keys(), columns=G.keys()))\n",
    "result = PageRank(M, alpha, root)\n",
    "# print results\n",
    "print(result)\n"
   ]
  },
  {
   "cell_type": "code",
   "execution_count": null,
   "metadata": {},
   "outputs": [],
   "source": [
    "S=[[0,0,0,0],[0.3333,0,0,1],[0.3333,0.5,0,0],[0.3333,0.5,1,0]]\n",
    "0.14998    1.49283    0.82693    1.52982"
   ]
  }
 ],
 "metadata": {
  "kernelspec": {
   "display_name": "Python 3",
   "language": "python",
   "name": "python3"
  },
  "language_info": {
   "codemirror_mode": {
    "name": "ipython",
    "version": 3
   },
   "file_extension": ".py",
   "mimetype": "text/x-python",
   "name": "python",
   "nbconvert_exporter": "python",
   "pygments_lexer": "ipython3",
   "version": "3.6.6"
  }
 },
 "nbformat": 4,
 "nbformat_minor": 2
}
