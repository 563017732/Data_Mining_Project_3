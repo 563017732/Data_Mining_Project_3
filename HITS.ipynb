{
 "cells": [
  {
   "cell_type": "markdown",
   "metadata": {},
   "source": [
    "# Data Mining Project3——HITS\n",
    "### （1）读取数据"
   ]
  },
  {
   "cell_type": "code",
   "execution_count": 1,
   "metadata": {},
   "outputs": [],
   "source": [
    "import pandas as pd\n",
    "import numpy as np\n",
    "import matplotlib.pyplot as plt"
   ]
  },
  {
   "cell_type": "code",
   "execution_count": 2,
   "metadata": {},
   "outputs": [],
   "source": [
    "\n",
    "def loadData():\n",
    "    Data = pd.read_csv(\"FBtree_TestingData.csv\")       #使用pandas读取数据\n",
    "    newData=np.zeros((len(Data,),2),dtype=int)\n",
    "    for i in range(len(Data)):                       \n",
    "        newData[i]=Data['items'][i].split(\" \")           #对数据进行切割\n",
    "    #print(newData)\n",
    "    return newData\n",
    "\n",
    "data1=pd.read_csv(\"graph_1.txt\",index_col=[\"I\"])\n",
    "data2=pd.read_csv(\"graph_2.txt\",index_col=[\"I\"])\n",
    "data3=pd.read_csv(\"graph_3.txt\",index_col=[\"I\"])\n",
    "data4=pd.read_csv(\"graph_4.txt\",index_col=[\"I\"])\n",
    "data5=pd.read_csv(\"graph_5.txt\",index_col=[\"I\"])\n",
    "data6=pd.read_csv(\"graph_6.txt\",index_col=[\"I\"])\n",
    "#单向数据\n",
    "load_data=loadData()\n",
    "ind =load_data[:,0]\n",
    "data7=pd.DataFrame(load_data[:,1],index=ind,columns=['O'])\n",
    "#print(data7)\n",
    "#双向数据\n",
    "ind =np.append(load_data[:,0],load_data[:,1])\n",
    "bi_data=np.append(load_data[:,1],load_data[:,0])\n",
    "data8=pd.DataFrame(bi_data,index=ind,columns=['O'])\n",
    "#print(data8)\n"
   ]
  },
  {
   "cell_type": "code",
   "execution_count": 21,
   "metadata": {},
   "outputs": [],
   "source": [
    "#更改后的数据\n",
    "data1_1=pd.read_csv(\"graph_1-1.txt\",index_col=[\"I\"])\n",
    "data1_2=pd.read_csv(\"graph_1-2.txt\",index_col=[\"I\"])\n",
    "data2_1=pd.read_csv(\"graph_2-1.txt\",index_col=[\"I\"])\n",
    "data3_1=pd.read_csv(\"graph_3-1.txt\",index_col=[\"I\"])"
   ]
  },
  {
   "cell_type": "markdown",
   "metadata": {},
   "source": [
    "## （2）数据预处理\n",
    "把读取到的数据变成一对多的字典型数据"
   ]
  },
  {
   "cell_type": "code",
   "execution_count": 5,
   "metadata": {},
   "outputs": [],
   "source": [
    "def data2dic(data):\n",
    "    index=data.index.tolist()\n",
    "    index_tostr=[str(i) for i in index]\n",
    "    datas=data[\"O\"]\n",
    "    data_tostr=[str(i) for i in datas]\n",
    "    dits={}\n",
    "    j=0\n",
    "    for i in index_tostr:\n",
    "        dits.setdefault(i,[]).append(data_tostr[j])\n",
    "        j=j+1\n",
    "    return dits"
   ]
  },
  {
   "cell_type": "code",
   "execution_count": 22,
   "metadata": {},
   "outputs": [
    {
     "name": "stdout",
     "output_type": "stream",
     "text": [
      "{'1': ['2'], '2': ['1'], '3': ['2'], '4': ['2']}\n"
     ]
    }
   ],
   "source": [
    "dits1=data2dic(data1)\n",
    "dits2=data2dic(data2)\n",
    "dits3=data2dic(data3)\n",
    "dits4=data2dic(data4)\n",
    "dits5=data2dic(data5)\n",
    "dits6=data2dic(data6)\n",
    "dits7=data2dic(data7)\n",
    "dits8=data2dic(data8)\n",
    "dits1_1=data2dic(data1_1)\n",
    "dits1_2=data2dic(data1_2)\n",
    "dits2_1=data2dic(data2_1)\n",
    "dits3_1=data2dic(data3_1)\n",
    "print(dits3_1)"
   ]
  },
  {
   "cell_type": "markdown",
   "metadata": {},
   "source": [
    "## （3）HITS实现过程"
   ]
  },
  {
   "cell_type": "code",
   "execution_count": 8,
   "metadata": {},
   "outputs": [],
   "source": [
    "def initialize_authority(pages):\n",
    "    return dict(zip(pages.keys(), [1]*len(pages)))\n",
    "\n",
    "def clean_pages(pages):\n",
    "    for page in pages:\n",
    "        outside_links = []\n",
    "        for i in range(len(pages[page])):\n",
    "            if pages[page][i] not in pages or pages[page][i] == page: outside_links.append(i)\n",
    "        outside_links.reverse()\n",
    "        for outside_link in outside_links:\n",
    "            pages[page].pop(outside_link)\n",
    "    return pages\n",
    "                \n",
    "def initialize_L_matrices(pages):\n",
    "    L_matrix = pages\n",
    "    Lt_matrix = {}\n",
    "    for page in pages:\n",
    "        Lt_matrix[page] = []\n",
    "    for page in pages:\n",
    "        for link in pages[page]:\n",
    "            Lt_matrix[link].append(page)\n",
    "    return L_matrix, Lt_matrix\n",
    "\n",
    "def multiply_matrix_vector(matrix, vector):\n",
    "    result_matrix = {}\n",
    "    for row in matrix:\n",
    "        result_matrix[row] = 0\n",
    "        for item in matrix[row]:\n",
    "            result_matrix[row] += vector[item]\n",
    "    return result_matrix        \n",
    "            \n",
    "def normalize(vector):\n",
    "    max = 0\n",
    "    for component in vector:\n",
    "        if vector[component] > max:\n",
    "            max = vector[component]\n",
    "    if max == 0:\n",
    "        return vector\n",
    "    for component in vector:\n",
    "        vector[component] = float(vector[component]) / max\n",
    "    return vector\n",
    "        \n",
    "def vector_difference(vector1, vector2):\n",
    "    if not (vector1 and vector2): return float(\"inf\")\n",
    "    total = 0\n",
    "    for component in vector1:\n",
    "        total += abs(vector1[component] - vector2[component])\n",
    "    return total        \n",
    "\n",
    "def HITS(pages):\n",
    "    pages = clean_pages(pages)\n",
    "    authority_old = None\n",
    "    authority = initialize_authority(pages)\n",
    "    (L_matrix, Lt_matrix) = initialize_L_matrices(pages)\n",
    "    while vector_difference(authority_old, authority) > 0.1:\n",
    "        authority_old = authority\n",
    "        hubbiness = normalize(multiply_matrix_vector(L_matrix, authority))\n",
    "        authority = normalize(multiply_matrix_vector(Lt_matrix, hubbiness))\n",
    "    return authority, hubbiness"
   ]
  },
  {
   "cell_type": "markdown",
   "metadata": {},
   "source": [
    "## （4）使用不同数据集运行HITS"
   ]
  },
  {
   "cell_type": "code",
   "execution_count": 9,
   "metadata": {},
   "outputs": [],
   "source": [
    "def display(data, title):\n",
    "    print(title)\n",
    "    print(\"----------------------------------我是分割线------------------------------------\")\n",
    "    (authority, hubbiness) = HITS(data)\n",
    "    print(\"Authority: \" + str(authority))\n",
    "    print(\"Hubbiness: \" + str(hubbiness))\n",
    "    \n",
    "    size = len(data)\n",
    "    x = np.arange(size)+1\n",
    "    (authority, hubbiness) = HITS(data)\n",
    "    authority_y=authority.values()\n",
    "    hubbiness_y=hubbiness.values()\n",
    "\n",
    "    def autolabel(rects):\n",
    "        for rect in rects:\n",
    "            height = rect.get_height()\n",
    "            plt.text(rect.get_x()+rect.get_width()/2.-0.2, 1.03*height, '%.2f' % float(height))\n",
    "    \n",
    "    total_width, n = 0.8, 2     # 有多少个类型，只需更改n即可\n",
    "    width = total_width / n\n",
    "    x = x - (total_width - width) / 2\n",
    "\n",
    "    a=plt.bar(x + width, authority_y, width=width, label='authority')\n",
    "    b=plt.bar(x + 2 * width, hubbiness_y, width=width, label='hubbiness')\n",
    "    autolabel(a)\n",
    "    autolabel(b)\n",
    "\n",
    "    plt.legend()\n",
    "    plt.show()"
   ]
  },
  {
   "cell_type": "code",
   "execution_count": 24,
   "metadata": {},
   "outputs": [
    {
     "name": "stdout",
     "output_type": "stream",
     "text": [
      "数据集为：graph_1.txt\n",
      "----------------------------------我是分割线------------------------------------\n",
      "Authority: {'1': 0.0, '2': 1.0, '3': 1.0, '4': 1.0, '5': 1.0}\n",
      "Hubbiness: {'1': 1.0, '2': 1.0, '3': 1.0, '4': 1.0, '5': 0.0}\n"
     ]
    },
    {
     "data": {
      "image/png": "[encoded data removed]",
      "text/plain": [
       "<Figure size 432x288 with 1 Axes>"
      ]
     },
     "metadata": {
      "needs_background": "light"
     },
     "output_type": "display_data"
    },
    {
     "name": "stdout",
     "output_type": "stream",
     "text": [
      "数据集为：graph_2.txt\n",
      "----------------------------------我是分割线------------------------------------\n",
      "Authority: {'1': 1.0, '2': 1.0, '3': 1.0, '4': 1.0, '5': 1.0}\n",
      "Hubbiness: {'1': 1.0, '2': 1.0, '3': 1.0, '4': 1.0, '5': 1.0}\n"
     ]
    },
    {
     "data": {
      "image/png": "[encoded data removed]",
      "text/plain": [
       "<Figure size 432x288 with 1 Axes>"
      ]
     },
     "metadata": {
      "needs_background": "light"
     },
     "output_type": "display_data"
    },
    {
     "name": "stdout",
     "output_type": "stream",
     "text": [
      "数据集为：graph_3.txt\n",
      "----------------------------------我是分割线------------------------------------\n",
      "Authority: {'1': 0.625, '2': 1.0, '3': 1.0, '4': 0.625}\n",
      "Hubbiness: {'1': 0.6000000000000001, '2': 1.0, '3': 1.0, '4': 0.6000000000000001}\n"
     ]
    },
    {
     "data": {
      "image/png": "[encoded data removed]",
      "text/plain": [
       "<Figure size 432x288 with 1 Axes>"
      ]
     },
     "metadata": {
      "needs_background": "light"
     },
     "output_type": "display_data"
    },
    {
     "name": "stdout",
     "output_type": "stream",
     "text": [
      "数据集为：graph_4.txt\n",
      "----------------------------------我是分割线------------------------------------\n",
      "Authority: {'1': 0.7056117755289789, '2': 0.8804047838086476, '3': 1.0, '4': 0.7019319227230911, '5': 0.9935602575896962, '6': 0.28610855565777366, '7': 0.41582336706531736}\n",
      "Hubbiness: {'1': 1.0, '2': 0.18141592920353986, '3': 0.40044247787610626, '4': 0.7168141592920354, '5': 0.6880530973451328, '6': 0.42699115044247793, '7': 0.2455752212389381}\n"
     ]
    },
    {
     "data": {
      "image/png": "[encoded data removed]",
      "text/plain": [
       "<Figure size 432x288 with 1 Axes>"
      ]
     },
     "metadata": {
      "needs_background": "light"
     },
     "output_type": "display_data"
    },
    {
     "name": "stdout",
     "output_type": "stream",
     "text": [
      "数据集为：graph_1-1.txt\n",
      "----------------------------------我是分割线------------------------------------\n",
      "Authority: {'1': 0.0, '2': 0.6181818181818182, '3': 1.0, '4': 0.018181818181818184, '5': 0.018181818181818184}\n",
      "Hubbiness: {'1': 1.0, '2': 0.6176470588235294, '3': 0.029411764705882356, '4': 0.029411764705882356, '5': 0.0}\n"
     ]
    },
    {
     "data": {
      "image/png": "[encoded data removed]",
      "text/plain": [
       "<Figure size 432x288 with 1 Axes>"
      ]
     },
     "metadata": {
      "needs_background": "light"
     },
     "output_type": "display_data"
    },
    {
     "name": "stdout",
     "output_type": "stream",
     "text": [
      "数据集为：graph_1-2.txt\n",
      "----------------------------------我是分割线------------------------------------\n",
      "Authority: {'1': 0.0, '2': 0.7916666666666667, '3': 1.0, '4': 1.0, '5': 1.0}\n",
      "Hubbiness: {'1': 1.0, '2': 0.2631578947368421, '3': 0.2631578947368421, '4': 0.2631578947368421, '5': 0.0}\n"
     ]
    },
    {
     "data": {
      "image/png": "[encoded data removed]",
      "text/plain": [
       "<Figure size 432x288 with 1 Axes>"
      ]
     },
     "metadata": {
      "needs_background": "light"
     },
     "output_type": "display_data"
    },
    {
     "name": "stdout",
     "output_type": "stream",
     "text": [
      "数据集为：graph_2-1.txt\n",
      "----------------------------------我是分割线------------------------------------\n",
      "Authority: {'1': 0.018181818181818184, '2': 0.6181818181818182, '3': 1.0, '4': 0.018181818181818184, '5': 0.018181818181818184}\n",
      "Hubbiness: {'1': 1.0, '2': 0.6176470588235294, '3': 0.029411764705882356, '4': 0.029411764705882356, '5': 0.029411764705882356}\n"
     ]
    },
    {
     "data": {
      "image/png": "[encoded data removed]",
      "text/plain": [
       "<Figure size 432x288 with 1 Axes>"
      ]
     },
     "metadata": {
      "needs_background": "light"
     },
     "output_type": "display_data"
    },
    {
     "name": "stdout",
     "output_type": "stream",
     "text": [
      "数据集为：graph_3-1.txt\n",
      "----------------------------------我是分割线------------------------------------\n",
      "Authority: {'1': 0.037037037037037035, '2': 1.0, '3': 0.0, '4': 0.0}\n",
      "Hubbiness: {'1': 1.0, '2': 0.1111111111111111, '3': 1.0, '4': 1.0}\n"
     ]
    },
    {
     "data": {
      "image/png": "[encoded data removed]",
      "text/plain": [
       "<Figure size 432x288 with 1 Axes>"
      ]
     },
     "metadata": {
      "needs_background": "light"
     },
     "output_type": "display_data"
    }
   ],
   "source": [
    "\n",
    "display(dits1,\"数据集为：graph_1.txt\")\n",
    "display(dits2,\"数据集为：graph_2.txt\")\n",
    "display(dits3,\"数据集为：graph_3.txt\")\n",
    "display(dits4,\"数据集为：graph_4.txt\")\n",
    "display(dits1_1,\"数据集为：graph_1-1.txt\")\n",
    "display(dits1_2,\"数据集为：graph_1-2.txt\")\n",
    "display(dits2_1,\"数据集为：graph_2-1.txt\")\n",
    "display(dits3_1,\"数据集为：graph_3-1.txt\")\n",
    "#display(dits5,\"数据集为：graph_5.txt\")\n",
    "#display(dits6,\"数据集为：graph_6.txt\")\n",
    "#display(dits7,\"数据集为：project1单向\")\n",
    "#display(dits8,\"数据集为：project1双项\")"
   ]
  },
  {
   "cell_type": "code",
   "execution_count": 8,
   "metadata": {},
   "outputs": [],
   "source": [
    "def show_result(data):\n",
    "    size = len(data)\n",
    "    x = np.arange(size)+1\n",
    "    (authority, hubbiness) = HITS(data)\n",
    "    #authority_x=authority.keys()\n",
    "    authority_y=authority.values()\n",
    "    #hubbiness_x=hubbiness.keys()\n",
    "    hubbiness_y=hubbiness.values()\n",
    "    \n",
    "    total_width, n = 0.8, 2     # 有多少个类型，只需更改n即可\n",
    "    width = total_width / n\n",
    "    x = x - (total_width - width) / 2\n",
    "    \n",
    "    plt.bar(x + width, authority_y, width=width, label='authority')\n",
    "    plt.bar(x + 2 * width, hubbiness_y, width=width, label='hubbiness')\n",
    "    plt.legend()\n",
    "    plt.show()\n",
    "    plt.tight_layout()"
   ]
  },
  {
   "cell_type": "code",
   "execution_count": 9,
   "metadata": {},
   "outputs": [
    {
     "name": "stdout",
     "output_type": "stream",
     "text": [
      "[0.8 1.8 2.8 3.8 4.8 5.8 6.8]\n"
     ]
    },
    {
     "data": {
      "image/png": "[encoded data removed]",
      "text/plain": [
       "<Figure size 432x288 with 1 Axes>"
      ]
     },
     "metadata": {
      "needs_background": "light"
     },
     "output_type": "display_data"
    }
   ],
   "source": [
    "size = len(dits4)\n",
    "x = np.arange(size)+1\n",
    "(authority, hubbiness) = HITS(dits4)\n",
    "authority_y=authority.values()\n",
    "hubbiness_y=hubbiness.values()\n",
    "\n",
    "def autolabel(rects):\n",
    "    for rect in rects:\n",
    "        height = rect.get_height()\n",
    "        plt.text(rect.get_x()+rect.get_width()/2.-0.2, 1.03*height, '%.2f' % float(height))\n",
    "    \n",
    "total_width, n = 0.8, 2     # 有多少个类型，只需更改n即可\n",
    "width = total_width / n\n",
    "x = x - (total_width - width) / 2\n",
    "print(x)\n",
    "\n",
    "plt.title(\"dits4\")\n",
    "\n",
    "a=plt.bar(x + width, authority_y, width=width, label='authority')\n",
    "b=plt.bar(x + 2 * width, hubbiness_y, width=width, label='hubbiness')\n",
    "autolabel(a)\n",
    "autolabel(b)\n",
    "\n",
    "plt.legend()\n",
    "plt.show()"
   ]
  },
  {
   "cell_type": "code",
   "execution_count": null,
   "metadata": {},
   "outputs": [],
   "source": []
  },
  {
   "cell_type": "code",
   "execution_count": null,
   "metadata": {},
   "outputs": [],
   "source": []
  },
  {
   "cell_type": "code",
   "execution_count": null,
   "metadata": {},
   "outputs": [],
   "source": []
  }
 ],
 "metadata": {
  "kernelspec": {
   "display_name": "Python 3",
   "language": "python",
   "name": "python3"
  },
  "language_info": {
   "codemirror_mode": {
    "name": "ipython",
    "version": 3
   },
   "file_extension": ".py",
   "mimetype": "text/x-python",
   "name": "python",
   "nbconvert_exporter": "python",
   "pygments_lexer": "ipython3",
   "version": "3.6.6"
  }
 },
 "nbformat": 4,
 "nbformat_minor": 2
}
